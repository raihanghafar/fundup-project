{
  "nbformat": 4,
  "nbformat_minor": 0,
  "metadata": {
    "colab": {
      "provenance": []
    },
    "kernelspec": {
      "name": "python3",
      "display_name": "Python 3"
    },
    "language_info": {
      "name": "python"
    }
  },
  "cells": [
    {
      "cell_type": "markdown",
      "source": [
        "# Import Library"
      ],
      "metadata": {
        "id": "FmuQvzayjZM5"
      }
    },
    {
      "cell_type": "code",
      "execution_count": null,
      "metadata": {
        "id": "ZarSlqor1uOV"
      },
      "outputs": [],
      "source": [
        "import pandas as pd\n",
        "import numpy as np\n",
        "import tensorflow as tf\n",
        "from tensorflow.keras.preprocessing.text import Tokenizer\n",
        "from tensorflow.keras.preprocessing.sequence import pad_sequences\n",
        "from sklearn.metrics.pairwise import cosine_similarity\n",
        "import firebase_admin\n",
        "from firebase_admin import credentials\n",
        "from firebase_admin import firestore"
      ]
    },
    {
      "cell_type": "markdown",
      "source": [
        "# Connect Firestore Database"
      ],
      "metadata": {
        "id": "RLhq00tejgUI"
      }
    },
    {
      "cell_type": "code",
      "source": [
        "# Initialize Firebase Admin SDK\n",
        "cred = credentials.Certificate('fundup-387016-eebdb0edd99f.json')  # Replace with your service account key file path\n",
        "firebase_admin.initialize_app(cred)\n",
        "db = firestore.client()"
      ],
      "metadata": {
        "id": "Egb00x3A2yYP"
      },
      "execution_count": null,
      "outputs": []
    },
    {
      "cell_type": "markdown",
      "source": [
        "# Load Data from Firestore Database"
      ],
      "metadata": {
        "id": "R_bXn23tjyzN"
      }
    },
    {
      "cell_type": "code",
      "source": [
        "# Load the startup features from Firestore\n",
        "startup_features_ref = db.collection('startup')\n",
        "startup_features_docs = startup_features_ref.stream()\n",
        "\n",
        "startup_features = []\n",
        "startup_ids = []\n",
        "for doc in startup_features_docs:\n",
        "    data = doc.to_dict()\n",
        "    startup_features.append(data['tingkat_perkembangan_perusahaan'] + ' ' + data['industri_startup'])\n",
        "    startup_ids.append(str(doc.id))"
      ],
      "metadata": {
        "id": "LdeI5m3Z25mp"
      },
      "execution_count": null,
      "outputs": []
    },
    {
      "cell_type": "code",
      "source": [
        "startup_features"
      ],
      "metadata": {
        "colab": {
          "base_uri": "https://localhost:8080/"
        },
        "id": "-d7KKSXnmDpY",
        "outputId": "3d4e6510-0edd-4dc1-e358-b7f52ff542b1"
      },
      "execution_count": null,
      "outputs": [
        {
          "output_type": "execute_result",
          "data": {
            "text/plain": [
              "['Pre-startup/RnD Energi Terbarukan',\n",
              " 'Pre-startup/RnD E-commerce',\n",
              " 'Pre-startup/RnD E-commerce',\n",
              " 'Growth Kesehatan Digital',\n",
              " 'Growth Transportasi dan Logistik',\n",
              " 'Product Market Fit and Monetization Kesehatan Digital',\n",
              " 'Growth Fintech',\n",
              " 'MVP/prototype Transportasi dan Logistik',\n",
              " 'MVP/prototype Energi Terbarukan',\n",
              " 'Pre-startup/RnD Transportasi dan Logistik',\n",
              " 'Early Customers and Iteration Makanan dan Minuman',\n",
              " 'Early Customers and Iteration Agroteknologi',\n",
              " 'Product Market Fit and Monetization Agroteknologi',\n",
              " 'Growth E-commerce',\n",
              " 'Product Market Fit and Monetization Kreatif dan Media Digital',\n",
              " 'Product Market Fit and Monetization Makanan dan Minuman',\n",
              " 'Product Market Fit and Monetization Energi Terbarukan',\n",
              " 'Pre-startup/RnD Transportasi dan Logistik',\n",
              " 'Early Customers and Iteration Transportasi dan Logistik',\n",
              " 'Product Market Fit and Monetization Kreatif dan Media Digital',\n",
              " 'Growth Kreatif dan Media Digital',\n",
              " 'Growth Kreatif dan Media Digital',\n",
              " 'Product Market Fit and Monetization Pendidikan Online',\n",
              " 'Pre-startup/RnD Makanan dan Minuman',\n",
              " 'MVP/prototype Energi Terbarukan',\n",
              " 'Growth Fintech',\n",
              " 'MVP/prototype Kreatif dan Media Digital',\n",
              " 'MVP/prototype Pendidikan Online',\n",
              " 'Product Market Fit and Monetization Pendidikan Online',\n",
              " 'Early Customers and Iteration Travel dan Pariwisata',\n",
              " 'Product Market Fit and Monetization Agroteknologi',\n",
              " 'Growth Kesehatan Digital',\n",
              " 'MVP/prototype Fintech',\n",
              " 'Early Customers and Iteration Kreatif dan Media Digital',\n",
              " 'MVP/prototype Travel dan Pariwisata',\n",
              " 'Growth Travel dan Pariwisata',\n",
              " 'Early Customers and Iteration Travel dan Pariwisata',\n",
              " 'Early Customers and Iteration Fintech',\n",
              " 'Pre-startup/RnD Energi Terbarukan',\n",
              " 'Growth Travel dan Pariwisata',\n",
              " 'MVP/prototype Agroteknologi',\n",
              " 'MVP/prototype Agroteknologi',\n",
              " 'Growth Kreatif dan Media Digital',\n",
              " 'Pre-startup/RnD Kesehatan Digital',\n",
              " 'Early Customers and Iteration E-commerce',\n",
              " 'MVP/prototype Energi Terbarukan',\n",
              " 'Growth E-commerce',\n",
              " 'MVP/prototype Transportasi dan Logistik',\n",
              " 'Growth Travel dan Pariwisata',\n",
              " 'Pre-startup/RnD E-commerce',\n",
              " 'Early Customers and Iteration Transportasi dan Logistik',\n",
              " 'Product Market Fit and Monetization Energi Terbarukan',\n",
              " 'Product Market Fit and Monetization Makanan dan Minuman',\n",
              " 'Product Market Fit and Monetization Pendidikan Online',\n",
              " 'MVP/prototype Kreatif dan Media Digital',\n",
              " 'MVP/prototype Pendidikan Online',\n",
              " 'Pre-startup/RnD Makanan dan Minuman',\n",
              " 'Growth Energi Terbarukan',\n",
              " 'Early Customers and Iteration Makanan dan Minuman',\n",
              " 'Pre-startup/RnD Makanan dan Minuman',\n",
              " 'MVP/prototype Fintech',\n",
              " 'Growth Travel dan Pariwisata',\n",
              " 'Pre-startup/RnD Makanan dan Minuman',\n",
              " 'MVP/prototype Fintech',\n",
              " 'Pre-startup/RnD Transportasi dan Logistik',\n",
              " 'Pre-startup/RnD Kesehatan Digital',\n",
              " 'MVP/prototype Travel dan Pariwisata',\n",
              " 'Product Market Fit and Monetization Agroteknologi',\n",
              " 'Early Customers and Iteration Agroteknologi',\n",
              " 'Product Market Fit and Monetization E-commerce',\n",
              " 'Product Market Fit and Monetization Kesehatan Digital',\n",
              " 'Growth Kreatif dan Media Digital',\n",
              " 'Product Market Fit and Monetization Kesehatan Digital',\n",
              " 'Pre-startup/RnD Makanan dan Minuman',\n",
              " 'MVP/prototype Fintech',\n",
              " 'Early Customers and Iteration Pendidikan Online',\n",
              " 'Early Customers and Iteration Fintech',\n",
              " 'Growth Transportasi dan Logistik',\n",
              " 'Pre-startup/RnD Transportasi dan Logistik',\n",
              " 'MVP/prototype Fintech',\n",
              " 'Early Customers and Iteration Pendidikan Online',\n",
              " 'Early Customers and Iteration Kreatif dan Media Digital',\n",
              " 'Early Customers and Iteration Agroteknologi',\n",
              " 'Pre-startup/RnD Makanan dan Minuman',\n",
              " 'Pre-startup/RnD E-commerce',\n",
              " 'Growth Travel dan Pariwisata',\n",
              " 'Early Customers and Iteration Pendidikan Online',\n",
              " 'MVP/prototype Energi Terbarukan',\n",
              " 'Product Market Fit and Monetization Kesehatan Digital',\n",
              " 'Pre-startup/RnD Kesehatan Digital',\n",
              " 'Product Market Fit and Monetization Pendidikan Online',\n",
              " 'Product Market Fit and Monetization Agroteknologi',\n",
              " 'Early Customers and Iteration E-commerce',\n",
              " 'Pre-startup/RnD Kesehatan Digital',\n",
              " 'MVP/prototype Fintech',\n",
              " 'Early Customers and Iteration Pendidikan Online',\n",
              " 'Growth Energi Terbarukan',\n",
              " 'Product Market Fit and Monetization E-commerce',\n",
              " 'Early Customers and Iteration Agroteknologi',\n",
              " 'Growth Travel dan Pariwisata']"
            ]
          },
          "metadata": {},
          "execution_count": 5
        }
      ]
    },
    {
      "cell_type": "code",
      "source": [
        "startup_ids"
      ],
      "metadata": {
        "colab": {
          "base_uri": "https://localhost:8080/"
        },
        "id": "0Ccsmo4_jQ9D",
        "outputId": "4efbbe97-36f9-422a-820c-76a3236fa84c"
      },
      "execution_count": null,
      "outputs": [
        {
          "output_type": "execute_result",
          "data": {
            "text/plain": [
              "['187WvqyyivHWc6vOQQfz',\n",
              " '1PRqkm5AYAXIHumnZGF5',\n",
              " '28co6E0QbPRwCENWc13A',\n",
              " '2tukoDDLgYNAJDQXca7z',\n",
              " '3vDdk5FAxRZXSXgiHrTc',\n",
              " '4eFv0isVgM8dtvZ99d4w',\n",
              " '50GvsLiMdfwcEfZ99kpp',\n",
              " '5viiFzmEQcYmUbitOEga',\n",
              " '6Do2CQtPHVIanE6zybpq',\n",
              " '6bTvuK3MChnhZeRHuRUt',\n",
              " '6lcQKWW6hpQ6B2a54Vxf',\n",
              " '6tAgrICVADntOi3Tq4xh',\n",
              " '7pIo3Yp9tWcKRFWmd3VL',\n",
              " 'APDZSG1dNcj0rkDwSFy7',\n",
              " 'B0CrDZ8imMuFWtFiEAAF',\n",
              " 'BGsl6mJLmIgA7aiF7sNX',\n",
              " 'CChkggoZ611jjxV7wYFK',\n",
              " 'CEmLPRl2VaAmhMleSL3R',\n",
              " 'E85QF4tnyukL0LE0hq8F',\n",
              " 'EF2Vi56m5TpMXSQrjPYv',\n",
              " 'FQbrWpCuKG4Oxqp0bW0m',\n",
              " 'FSLm33OVgLf66LQqQJVy',\n",
              " 'G4KF6wAE2kL68DqUCYEu',\n",
              " 'HgxCh2ETzrNmEC35WibF',\n",
              " 'Hr1VYxwM8y1t24j8urlH',\n",
              " 'IQGqz1GfunkZ8wlZYQvT',\n",
              " 'IZHw6ULmmPv31bDeI9Df',\n",
              " 'IrGMPegt2OH70gXI9Gao',\n",
              " 'IyX6n6E3sS8NpmE1E2tN',\n",
              " 'JHNZTafk2vvp2mhnMPRr',\n",
              " 'K6n6KkI0QKElhbkMbUQH',\n",
              " 'KAF9t8I5udXY2tnDScHM',\n",
              " 'NUeBe7TJh52v8Epx0Gis',\n",
              " 'OcihK3E21kG4YiipPPFd',\n",
              " 'Od703fcwPwUbwyIAVhgT',\n",
              " 'P829jL77YQtMvkWYkyCA',\n",
              " 'PGvJjCgC65JjFPd5dfQM',\n",
              " 'PcnRvW0mhvIRKiA6OPMx',\n",
              " 'PuF2NChc2PMuIg1GeSb0',\n",
              " 'Q0ZPCso24kbtNeCIhVrR',\n",
              " 'Q9EM2KGFIAtaI5k4lKK0',\n",
              " 'RmKZFk4hIu5JQ2aOSE9N',\n",
              " 'RtSNz57kMh1bbD9V8TqM',\n",
              " 'SYgRBAfInT2lnXWhWqq7',\n",
              " 'Tcp5chZxMeEnpo3cEZDG',\n",
              " 'TsiT6tAPGl8Tdb0pNs1D',\n",
              " 'TvMSjbc3ZJNyKSv1ypmJ',\n",
              " 'U4npYrKqWBN0Ke3DKTyw',\n",
              " 'U9sHc6KPL0l20vinXAxZ',\n",
              " 'UVkASQgGSiXhkmKcNH6B',\n",
              " 'UhERbIxsHk5E0G5SGcOi',\n",
              " 'UsjUK52vJ8jgbooofIRR',\n",
              " 'UuzeY5GT0K62PPkUIsRH',\n",
              " 'WamN3eaCmxV7BgOlmtOV',\n",
              " 'WkWV72oKWFd0i35RlINC',\n",
              " 'Y4VX9t30oz7GHC14O55f',\n",
              " 'Z89xXQdIfiafaLvoIkOi',\n",
              " 'b9zLiMTXvS9KcrFa2yls',\n",
              " 'bJvvLx6fIeqvbqYsZtXa',\n",
              " 'c36tEh4s7I24sAWXvPW1',\n",
              " 'dG1qm8XU4HIBzUbZjh1o',\n",
              " 'deWhwn9sQaaC0vngDW5I',\n",
              " 'dhKRQks74HzNA9ZMWHJq',\n",
              " 'e17aBuWXfaOQhJSyV8uV',\n",
              " 'exVWVt3rFXFCOo4WgJkF',\n",
              " 'fG1zoLTjJmLfZZYE3aEU',\n",
              " 'fdwIsJWgQIS9u51U5YEz',\n",
              " 'gchWb87UHxTJvf6kpRc4',\n",
              " 'hSLVZ8a2lA5ehfg26vfI',\n",
              " 'hm5LoS1QqCe8IIN4dXMK',\n",
              " 'i3Q2P96sRw3gD8qyFGNQ',\n",
              " 'jasCzr6YULSYfyuoVd1C',\n",
              " 'kJLnuCm8A8JEFKGxqzCb',\n",
              " 'kqXCLs4tyAmbZP0t2mKW',\n",
              " 'lDenPIWnUoluoN8afbgl',\n",
              " 'lUNLeKWaO9gDp01PktEn',\n",
              " 'mbQ7UJEKWBvTlM2sGWo1',\n",
              " 'mwZ1uzeSPovgGx9WjRKI',\n",
              " 'n8WlNVzHtkAq6MaZyRAb',\n",
              " 'nVoaaXuS5tSdGU2v3mRs',\n",
              " 'oDgubkCGe05a8fINbTVo',\n",
              " 'oVDq2UmBFPPMPyzvgEWn',\n",
              " 'p4w0flvUeTCuFQTziGgX',\n",
              " 'pILI8nl2UFAjEbksQ8g5',\n",
              " 'pc27b1dRFLcj0XXR069P',\n",
              " 'pqopdcGSPRAhkVv6ywlW',\n",
              " 'qCxVBSPNhVnrpZ61oBKD',\n",
              " 'rn3POe8NW1mEHGWuebux',\n",
              " 'u1S8s0pnhXCeuEC0KAa3',\n",
              " 'uRvAToRv03raSQ19QgfF',\n",
              " 'v9BysHoBLm1tQIt7WZzv',\n",
              " 'vYB4FgCEQ5r4XsmTHXnL',\n",
              " 'vzQWcv2EePsjLTUN2f6g',\n",
              " 'wM02ieQwndmEIF5sIo4m',\n",
              " 'wcHHIrlsihKl9JsA6uvq',\n",
              " 'xOMGdwRA2S09AGEe4Iuw',\n",
              " 'xwawOohUbU0hmrr1qvHC',\n",
              " 'yZQYytgW252ZC9G8Le93',\n",
              " 'yhKtJtS386oLEYVJ53mi',\n",
              " 'z7W0V8cIasxkN5MtpGhM']"
            ]
          },
          "metadata": {},
          "execution_count": 6
        }
      ]
    },
    {
      "cell_type": "code",
      "source": [
        "# Load the investor features from Firestore\n",
        "investor_features_ref = db.collection('investor_loker')\n",
        "investor_features_docs = investor_features_ref.stream()\n",
        "\n",
        "investor_features = []\n",
        "investor_ids = []\n",
        "for doc in investor_features_docs:\n",
        "    data = doc.to_dict()\n",
        "    investor_features.append(data['target_perkembangan'] + ' ' + data['target_industri'])\n",
        "    investor_ids.append(doc.id)"
      ],
      "metadata": {
        "id": "dAZ1ovtk28Lf"
      },
      "execution_count": null,
      "outputs": []
    },
    {
      "cell_type": "code",
      "source": [
        "investor_features"
      ],
      "metadata": {
        "colab": {
          "base_uri": "https://localhost:8080/"
        },
        "id": "JUiDyR_sl_-r",
        "outputId": "14c10d6c-cf55-456f-ce1b-128175c6e021"
      },
      "execution_count": null,
      "outputs": [
        {
          "output_type": "execute_result",
          "data": {
            "text/plain": [
              "['Pre-startup/RnD Travel dan Pariwisata',\n",
              " 'Early Customers and Iteration Kesehatan Digital',\n",
              " 'Product Market Fit and Monetization Kesehatan Digital',\n",
              " 'Early Customers and Iteration Makanan dan Minuman',\n",
              " 'Early Customers and Iteration E-commerce',\n",
              " 'Growth Agroteknologi',\n",
              " 'Pre-startup/RnD E-commerce',\n",
              " 'Growth Pendidikan Online',\n",
              " 'Growth Energi Terbarukan',\n",
              " 'Growth Travel dan Pariwisata',\n",
              " 'Growth Kreatif dan Media Digital',\n",
              " 'MVP/prototype Fintech',\n",
              " 'MVP/prototype Transportasi dan Logistik',\n",
              " 'MVP/prototype Travel dan Pariwisata',\n",
              " 'Product Market Fit and Monetization Kesehatan Digital',\n",
              " 'Growth Agroteknologi',\n",
              " 'Product Market Fit and Monetization Agroteknologi',\n",
              " 'Early Customers and Iteration Makanan dan Minuman',\n",
              " 'Product Market Fit and Monetization Pendidikan Online',\n",
              " 'MVP/prototype E-commerce',\n",
              " 'Product Market Fit and Monetization Energi Terbarukan',\n",
              " 'Growth Kreatif dan Media Digital',\n",
              " 'Early Customers and Iteration Kreatif dan Media Digital',\n",
              " 'Pre-startup/RnD Fintech',\n",
              " 'MVP/prototype Travel dan Pariwisata',\n",
              " 'MVP/prototype Agroteknologi',\n",
              " 'Early Customers and Iteration Fintech',\n",
              " 'Product Market Fit and Monetization Fintech',\n",
              " 'MVP/prototype Kreatif dan Media Digital',\n",
              " 'Pre-startup/RnD Kesehatan Digital',\n",
              " 'Early Customers and Iteration Transportasi dan Logistik',\n",
              " 'Product Market Fit and Monetization Kreatif dan Media Digital',\n",
              " 'Product Market Fit and Monetization E-commerce',\n",
              " 'Growth Energi Terbarukan',\n",
              " 'Pre-startup/RnD Transportasi dan Logistik',\n",
              " 'Growth Makanan dan Minuman',\n",
              " 'MVP/prototype Fintech',\n",
              " 'MVP/prototype Pendidikan Online',\n",
              " 'Pre-startup/RnD Kesehatan Digital',\n",
              " 'Early Customers and Iteration Makanan dan Minuman',\n",
              " 'Pre-startup/RnD Transportasi dan Logistik',\n",
              " 'Pre-startup/RnD Energi Terbarukan',\n",
              " 'Pre-startup/RnD Transportasi dan Logistik',\n",
              " 'Early Customers and Iteration Agroteknologi',\n",
              " 'Early Customers and Iteration Pendidikan Online',\n",
              " 'Growth Energi Terbarukan',\n",
              " 'Product Market Fit and Monetization E-commerce',\n",
              " 'Pre-startup/RnD Pendidikan Online',\n",
              " 'MVP/prototype Travel dan Pariwisata',\n",
              " 'Product Market Fit and Monetization Makanan dan Minuman']"
            ]
          },
          "metadata": {},
          "execution_count": 10
        }
      ]
    },
    {
      "cell_type": "code",
      "source": [
        "investor_ids"
      ],
      "metadata": {
        "colab": {
          "base_uri": "https://localhost:8080/"
        },
        "id": "fR5WDrgajTBI",
        "outputId": "1a5ce66c-4820-4895-a51c-25cf590d560f"
      },
      "execution_count": null,
      "outputs": [
        {
          "output_type": "execute_result",
          "data": {
            "text/plain": [
              "['002t0DzQTry8tCCx0WZD',\n",
              " '1Ts0qVsEWUkSm3BgYcRQ',\n",
              " '3C2cyjEnLHOUItjy2sBi',\n",
              " '4L6yhwT4EN2rPvrjJvKV',\n",
              " '4Twl3tFLpbFWzghp2CEG',\n",
              " '6sYVMaiCKx4ro5BPLoZt',\n",
              " '7ZGFzF4MJwSn22R33huQ',\n",
              " '7cRfxCap18kYQMnpWaUy',\n",
              " '7fevkZuDa3pKHwdVNjix',\n",
              " '8Yhg7XXZtG6xXL99GFml',\n",
              " '93pHK1BkCKqkO11dzt8X',\n",
              " 'ARml6pgrznCNUJYQerBg',\n",
              " 'By3x6Z86PWAkGGQZlF6u',\n",
              " 'C9MI4KtJEF3u7DEIBol6',\n",
              " 'CfvJ4ZSRv7aUn9EUG6Yx',\n",
              " 'Co3LYEHYpZlLLVcDejaX',\n",
              " 'G0xE06PDXb9uPZL7pKXq',\n",
              " 'GPvLEamA6BxbpNaIzlCk',\n",
              " 'GYj5r30aV3kpwhky1P8w',\n",
              " 'GbgU1SVj1NURXoF167mz',\n",
              " 'IQfYUmNEOrejvZZQK2XP',\n",
              " 'IXCa8TdO4NWQ0onsHGu5',\n",
              " 'KKzce2sw19svcAsKjmfH',\n",
              " 'LoaUYn87EdERo1p9iD2u',\n",
              " 'MclkvoD9k6SnlSFWthT6',\n",
              " 'MiEP6bDb4ytiIxeF8oLs',\n",
              " 'OtCBawbM8SeWMRbHa73P',\n",
              " 'RpZUwCCvEaXgx2NW3hUq',\n",
              " 'U7yjV43TrrLGOiE8ILkD',\n",
              " 'Uk1u0ZEASDPfnQxrFlUY',\n",
              " 'WiK6eiJxt4sUtbXBuKFK',\n",
              " 'YNdwcYZTciLVlUIKVpea',\n",
              " 'ZSk2Ao7JCDyEiMikJoD0',\n",
              " 'ZsNqoxL4R1loOsIN84nM',\n",
              " 'btFWOdAHjue9GeQsFHoc',\n",
              " 'cAymZJBGHPMmiFT13Cv4',\n",
              " 'cDTToyvUndBII30PExC5',\n",
              " 'dHqQEjaLcMQEtoYStBCD',\n",
              " 'hl7aAA6I4BmyhKeSHwOC',\n",
              " 'jp5YXbP4umLo2qWHAl4w',\n",
              " 'n8qyCBPal5we2lNAPozx',\n",
              " 'nqCAg8y3VqjtPEiIf1gx',\n",
              " 'qCZLvqpwS8wiNMROCSDt',\n",
              " 'tLYz1AYua58dSw1YHNqV',\n",
              " 'u4RoY4orEEKxPwhPf2Dh',\n",
              " 'wK34wyRquDdQVtm3ZRyG',\n",
              " 'wwqXBfaMwLhiQadVe8FB',\n",
              " 'xAHrbCL9aCO66IQcBKex',\n",
              " 'xxFvGH7xHn7NUjbt3R1u',\n",
              " 'yPXKAYLJp9fURToqWt5I']"
            ]
          },
          "metadata": {},
          "execution_count": 11
        }
      ]
    },
    {
      "cell_type": "markdown",
      "source": [
        "# Processing Data (Tokenizing)"
      ],
      "metadata": {
        "id": "r4cuh544j4eS"
      }
    },
    {
      "cell_type": "code",
      "source": [
        "# Preprocess the data using Tokenizer\n",
        "tokenizer = Tokenizer()\n",
        "tokenizer.fit_on_texts(startup_features + investor_features)\n",
        "startup_sequences = tokenizer.texts_to_sequences(startup_features)\n",
        "startup_padded = pad_sequences(startup_sequences)\n",
        "\n",
        "investor_sequences = tokenizer.texts_to_sequences(investor_features)\n",
        "investor_padded = pad_sequences(investor_sequences)"
      ],
      "metadata": {
        "id": "e6dFn3Bp2-be"
      },
      "execution_count": null,
      "outputs": []
    },
    {
      "cell_type": "code",
      "source": [
        "startup_padded"
      ],
      "metadata": {
        "colab": {
          "base_uri": "https://localhost:8080/"
        },
        "id": "vlm_IspVjXMd",
        "outputId": "f838a8df-7b98-450c-febe-498fcabed2a4"
      },
      "execution_count": null,
      "outputs": [
        {
          "output_type": "execute_result",
          "data": {
            "text/plain": [
              "array([[ 0,  0,  0,  3,  4,  1,  5, 17, 18],\n",
              "       [ 0,  0,  0,  0,  6,  7,  8, 19, 20],\n",
              "       [ 0,  0,  9, 10, 11,  1, 12, 17, 18],\n",
              "       [ 0,  0,  0,  0,  6,  7,  8, 21, 13],\n",
              "       [ 0,  0,  0,  0,  0, 14, 22,  2, 23],\n",
              "       [ 0,  0,  0,  0,  0, 15, 16, 19, 20],\n",
              "       [ 0,  0,  0,  6,  7,  8, 22,  2, 23],\n",
              "       [ 0,  0,  0,  6,  7,  8, 24,  2, 25],\n",
              "       [ 0,  0,  0,  0,  0,  0,  0, 14, 26],\n",
              "       [ 0,  0,  0,  0,  6,  7,  8, 27, 28],\n",
              "       [ 0,  9, 10, 11,  1, 12, 24,  2, 25],\n",
              "       [ 0,  0,  9, 10, 11,  1, 12, 19, 20],\n",
              "       [ 0,  0,  0,  9, 10, 11,  1, 12, 29],\n",
              "       [ 0,  0,  9, 10, 11,  1, 12, 27, 28],\n",
              "       [ 0,  0,  0,  6,  7,  8, 22,  2, 23],\n",
              "       [ 9, 10, 11,  1, 12, 30,  2, 31, 13],\n",
              "       [ 0,  0,  0,  0, 14, 30,  2, 31, 13],\n",
              "       [ 0,  0,  9, 10, 11,  1, 12, 21, 13],\n",
              "       [ 0,  0,  0,  0,  3,  4,  1,  5, 29],\n",
              "       [ 0,  0,  9, 10, 11,  1, 12, 17, 18],\n",
              "       [ 0,  0,  0,  0,  0,  0, 15, 16, 26],\n",
              "       [ 0,  0,  0,  0, 15, 16, 22,  2, 23],\n",
              "       [ 0,  0,  3,  4,  1,  5, 32,  2, 33],\n",
              "       [ 0,  0,  0,  0,  0, 14, 32,  2, 33],\n",
              "       [ 0,  0,  0,  3,  4,  1,  5, 27, 28],\n",
              "       [ 0,  0,  0,  0,  0, 14, 32,  2, 33],\n",
              "       [ 0,  0,  0,  0,  3,  4,  1,  5, 26],\n",
              "       [ 0,  0,  0,  0, 14, 30,  2, 31, 13],\n",
              "       [ 0,  0,  0,  0,  0,  0, 14, 19, 20],\n",
              "       [ 0,  0,  0,  0,  0,  0, 15, 16, 26],\n",
              "       [ 0,  0,  0,  9, 10, 11,  1, 12, 29],\n",
              "       [ 0,  0,  9, 10, 11,  1, 12, 21, 13],\n",
              "       [ 0,  0,  0,  0,  3,  4,  1,  5, 29],\n",
              "       [ 0,  0,  0,  3,  4,  1,  5, 17, 18],\n",
              "       [ 0,  0,  0,  0,  0,  0, 15, 16, 26],\n",
              "       [ 0,  3,  4,  1,  5, 30,  2, 31, 13],\n",
              "       [ 0,  0,  0,  6,  7,  8, 24,  2, 25],\n",
              "       [ 0,  0,  0, 15, 16, 30,  2, 31, 13],\n",
              "       [ 0,  0,  0,  0,  6,  7,  8, 27, 28],\n",
              "       [ 0,  0,  0,  0,  0, 15, 16, 17, 18],\n",
              "       [ 0,  0,  0,  0,  0,  0, 15, 16, 29],\n",
              "       [ 0,  0,  0,  0,  0,  0, 14, 27, 28],\n",
              "       [ 0,  0,  0,  0,  0,  0, 14, 21, 13],\n",
              "       [ 0,  0,  3,  4,  1,  5, 22,  2, 23],\n",
              "       [ 0,  0,  0,  6,  7,  8, 24,  2, 25],\n",
              "       [ 0,  0,  0,  0,  0, 14, 32,  2, 33],\n",
              "       [ 0,  0,  0,  0, 15, 16, 32,  2, 33],\n",
              "       [ 0,  0,  0,  0,  6,  7,  8, 21, 13],\n",
              "       [ 0,  0,  0,  0,  0, 15, 16, 19, 20],\n",
              "       [ 0,  0,  3,  4,  1,  5, 24,  2, 25]], dtype=int32)"
            ]
          },
          "metadata": {},
          "execution_count": 10
        }
      ]
    },
    {
      "cell_type": "code",
      "source": [
        "investor_padded"
      ],
      "metadata": {
        "colab": {
          "base_uri": "https://localhost:8080/"
        },
        "id": "A72W3wjija0g",
        "outputId": "99146e04-be18-4af7-815e-51306c86247e"
      },
      "execution_count": null,
      "outputs": [
        {
          "output_type": "execute_result",
          "data": {
            "text/plain": [
              "array([[ 0,  0,  3,  4,  1,  5, 24,  2, 25],\n",
              "       [ 0,  0,  3,  4,  1,  5, 22,  2, 23],\n",
              "       [ 0,  0,  0,  0,  0, 15, 16, 27, 28],\n",
              "       [ 0,  0,  0,  3,  4,  1,  5, 17, 18],\n",
              "       [ 9, 10, 11,  1, 12, 30,  2, 31, 13],\n",
              "       [ 0,  0,  0,  0,  0,  0, 14, 19, 20],\n",
              "       [ 0,  0,  0,  0, 14, 30,  2, 31, 13],\n",
              "       [ 0,  0,  0,  0,  0,  0, 14, 19, 20],\n",
              "       [ 0,  0,  0,  0, 15, 16, 22,  2, 23],\n",
              "       [ 0,  0,  0,  6,  7,  8, 22,  2, 23],\n",
              "       [ 0,  0,  0,  0,  0,  0, 15, 16, 29],\n",
              "       [ 0,  0,  0,  0,  3,  4,  1,  5, 29],\n",
              "       [ 0,  0,  0,  0,  3,  4,  1,  5, 26],\n",
              "       [ 0,  0,  9, 10, 11,  1, 12, 21, 13],\n",
              "       [ 0,  0,  0,  0,  0, 14, 32,  2, 33],\n",
              "       [ 0,  0,  0,  0, 15, 16, 32,  2, 33],\n",
              "       [ 0,  0,  0,  0,  0,  0, 15, 16, 26],\n",
              "       [ 0,  0,  0,  9, 10, 11,  1, 12, 29],\n",
              "       [ 0,  0,  9, 10, 11,  1, 12, 17, 18],\n",
              "       [ 0,  0,  9, 10, 11,  1, 12, 27, 28],\n",
              "       [ 0,  0,  0,  0, 15, 16, 32,  2, 33],\n",
              "       [ 0,  0,  0,  0, 14, 30,  2, 31, 13],\n",
              "       [ 0,  0,  9, 10, 11,  1, 12, 21, 13],\n",
              "       [ 0,  0,  9, 10, 11,  1, 12, 27, 28],\n",
              "       [ 0,  0,  0,  0,  6,  7,  8, 21, 13],\n",
              "       [ 0,  0,  0,  0,  0,  0,  0, 14, 29],\n",
              "       [ 0,  0,  0,  9, 10, 11,  1, 12, 26],\n",
              "       [ 0,  0,  0,  0,  6,  7,  8, 19, 20],\n",
              "       [ 0,  0,  0,  0,  0,  0, 14, 17, 18],\n",
              "       [ 0,  0,  0,  3,  4,  1,  5, 27, 28],\n",
              "       [ 0,  0,  0,  0,  0,  0, 14, 19, 20],\n",
              "       [ 0,  0,  0, 15, 16, 30,  2, 31, 13],\n",
              "       [ 0,  0,  0,  0,  0, 14, 24,  2, 25],\n",
              "       [ 0,  3,  4,  1,  5, 30,  2, 31, 13],\n",
              "       [ 0,  0,  0,  0,  6,  7,  8, 21, 13],\n",
              "       [ 0,  9, 10, 11,  1, 12, 24,  2, 25],\n",
              "       [ 0,  0,  3,  4,  1,  5, 24,  2, 25],\n",
              "       [ 0,  0,  0,  6,  7,  8, 22,  2, 23],\n",
              "       [ 0,  0,  0,  0,  0, 15, 16, 17, 18],\n",
              "       [ 0,  0,  0,  0, 15, 16, 32,  2, 33],\n",
              "       [ 0,  0,  0,  6,  7,  8, 32,  2, 33],\n",
              "       [ 0,  0,  0,  3,  4,  1,  5, 21, 13],\n",
              "       [ 0,  0,  0,  0,  0,  0,  0, 14, 29],\n",
              "       [ 0,  0,  0,  0,  0,  0, 15, 16, 26],\n",
              "       [ 0,  0,  3,  4,  1,  5, 24,  2, 25],\n",
              "       [ 0,  0,  0,  0,  0,  6,  7,  8, 26],\n",
              "       [ 0,  0,  0,  0,  6,  7,  8, 17, 18],\n",
              "       [ 0,  0,  0,  6,  7,  8, 22,  2, 23],\n",
              "       [ 0,  0,  0,  0,  6,  7,  8, 27, 28],\n",
              "       [ 0,  0,  9, 10, 11,  1, 12, 19, 20]], dtype=int32)"
            ]
          },
          "metadata": {},
          "execution_count": 11
        }
      ]
    },
    {
      "cell_type": "markdown",
      "source": [
        "# Convert to Tensor"
      ],
      "metadata": {
        "id": "xxX2w1HBj_kL"
      }
    },
    {
      "cell_type": "code",
      "source": [
        "# Convert padded sequences to tensors\n",
        "startup_tensors = tf.convert_to_tensor(startup_padded, dtype=tf.float32)\n",
        "investor_tensors = tf.convert_to_tensor(investor_padded, dtype=tf.float32)"
      ],
      "metadata": {
        "id": "9qmBAfdc3AKH"
      },
      "execution_count": null,
      "outputs": []
    },
    {
      "cell_type": "markdown",
      "source": [
        "# Get Similarity Score (Cosine Similarity)\n"
      ],
      "metadata": {
        "id": "quIw6IIHkE2M"
      }
    },
    {
      "cell_type": "code",
      "source": [
        "# Calculate cosine similarity between startup and investor tensors\n",
        "similarity_matrix = cosine_similarity(startup_tensors, investor_tensors)"
      ],
      "metadata": {
        "id": "xEdBXZBAj81A"
      },
      "execution_count": null,
      "outputs": []
    },
    {
      "cell_type": "code",
      "source": [
        "similarity_matrix"
      ],
      "metadata": {
        "colab": {
          "base_uri": "https://localhost:8080/"
        },
        "id": "6aon5dqIkEuN",
        "outputId": "25e7acab-38ca-45c7-8c05-6c7521b39eff"
      },
      "execution_count": null,
      "outputs": [
        {
          "output_type": "execute_result",
          "data": {
            "text/plain": [
              "array([[0.684386  , 0.6875572 , 0.91947305, ..., 0.6955335 , 0.98428524,\n",
              "        0.91334695],\n",
              "       [0.72117203, 0.72527   , 0.96952695, ..., 0.749458  , 0.9936536 ,\n",
              "        0.8870106 ],\n",
              "       [0.7410003 , 0.7471857 , 0.8047674 , ..., 0.7708655 , 0.8528605 ,\n",
              "        0.9986012 ],\n",
              "       ...,\n",
              "       [0.6145193 , 0.6197659 , 0.9461707 , ..., 0.65373975, 0.9615842 ,\n",
              "        0.86472094],\n",
              "       [0.7982511 , 0.80314744, 0.98747844, ..., 0.80604935, 0.90900624,\n",
              "        0.7902802 ],\n",
              "       [0.99999994, 0.9998344 , 0.7664845 , ..., 0.97342205, 0.6831354 ,\n",
              "        0.73796475]], dtype=float32)"
            ]
          },
          "metadata": {},
          "execution_count": 17
        }
      ]
    },
    {
      "cell_type": "code",
      "source": [
        "# Calculate cosine similarity between investor and startup tensors\n",
        "similarity_investor = cosine_similarity(investor_tensors, startup_tensors)"
      ],
      "metadata": {
        "id": "ILkZp6Flo7_a"
      },
      "execution_count": null,
      "outputs": []
    },
    {
      "cell_type": "code",
      "source": [
        "similarity_investor"
      ],
      "metadata": {
        "colab": {
          "base_uri": "https://localhost:8080/"
        },
        "id": "RrvECps_kHR0",
        "outputId": "dd307ee1-0089-4d9c-9860-9b87cc0c40e9"
      },
      "execution_count": null,
      "outputs": [
        {
          "output_type": "execute_result",
          "data": {
            "text/plain": [
              "array([[0.684386  , 0.72117203, 0.7410003 , ..., 0.6145193 , 0.7982511 ,\n",
              "        0.99999994],\n",
              "       [0.6875572 , 0.72527   , 0.7471857 , ..., 0.6197659 , 0.80314744,\n",
              "        0.9998344 ],\n",
              "       [0.91947305, 0.96952695, 0.8047674 , ..., 0.9461707 , 0.98747844,\n",
              "        0.7664845 ],\n",
              "       ...,\n",
              "       [0.6955335 , 0.749458  , 0.7708655 , ..., 0.65373975, 0.80604935,\n",
              "        0.97342205],\n",
              "       [0.98428524, 0.9936536 , 0.8528605 , ..., 0.9615842 , 0.90900624,\n",
              "        0.6831354 ],\n",
              "       [0.91334695, 0.8870106 , 0.9986012 , ..., 0.86472094, 0.7902802 ,\n",
              "        0.73796475]], dtype=float32)"
            ]
          },
          "metadata": {},
          "execution_count": 18
        }
      ]
    },
    {
      "cell_type": "markdown",
      "source": [
        "# Get Investor Recommendation for Startup\n"
      ],
      "metadata": {
        "id": "Ov7EsnVAkUN4"
      }
    },
    {
      "cell_type": "code",
      "source": [
        "# Function to get investor matches for a given startup ID\n",
        "def get_investor_matches(startup_id):\n",
        "    matches = {}\n",
        "    startup_index = startup_ids.index(startup_id)\n",
        "    similarities = similarity_matrix[startup_index]\n",
        "    sorted_indexes = np.argsort(similarities)[::-1]\n",
        "    top_matches = [investor_ids[i] for i in sorted_indexes[:20]]\n",
        "    matches[startup_id] = top_matches\n",
        "    return matches\n",
        "\n",
        "# Add investor matches to Firestore collection\n",
        "def add_investor_matches(startup_id, investor_matches):\n",
        "    matches_ref = db.collection('investor_matches')\n",
        "    matches_ref.document(startup_id).set({ 'investor_matches': investor_matches })\n",
        "\n",
        "# Interactive input and display of investor matches\n",
        "while True:\n",
        "    input_id = input(\"Enter startup ID (or 'exit' to quit): \")\n",
        "    if input_id == 'exit':\n",
        "        break\n",
        "    if input_id not in startup_ids:\n",
        "        print(\"Invalid startup ID. Please try again.\")\n",
        "        continue\n",
        "    investor_matches = get_investor_matches(input_id)\n",
        "    print(f\"\\nStartup ID: {input_id}\")\n",
        "    print(\"Top 20 Investor Matches:\")\n",
        "    for investor_id in investor_matches[input_id]:\n",
        "        print(investor_id)\n",
        "    print()\n",
        "    add_investor_matches(input_id, investor_matches[input_id])"
      ],
      "metadata": {
        "colab": {
          "base_uri": "https://localhost:8080/",
          "height": 814
        },
        "id": "_9mPkDw_3DjY",
        "outputId": "6c1f192a-6259-4b99-8753-c71a0990c58e"
      },
      "execution_count": null,
      "outputs": [
        {
          "output_type": "stream",
          "name": "stdout",
          "text": [
            "Enter startup ID (or 'exit' to quit): 0o6cMwcmzdwvhgxIVdHW\n",
            "\n",
            "Startup ID: 0o6cMwcmzdwvhgxIVdHW\n",
            "Top 20 Investor Matches:\n",
            "1ffARtgSBCFT9wdYQJP6\n",
            "bg1OByxC11rjETj12CSa\n",
            "txEgfqxhDnB4nIsZOXDD\n",
            "Z0fUFLkaQvjkCTYoqCnK\n",
            "n4hhHeJTw0ZjxL0NahFZ\n",
            "SlVaOuR6TRsYDGKTUryq\n",
            "VGcSWjAU1B34HOMZ48t8\n",
            "rcRHBzz1M3gDy9ozdCAC\n",
            "c4YGDBvNkd8RFMggiZVE\n",
            "3kvT6ew9c68yFhlGLXR1\n",
            "AF0qDplUHOifFMzqCPWS\n",
            "gkG2RRUbW7utHJZvFn31\n",
            "XDesjOpoI88veKuHGyPC\n",
            "ZkIc8zoS1Qj2m9J2exDw\n",
            "P4fz0sHH2ftO5hEuqNsn\n",
            "qMlpth3dnfGholxFlg1F\n",
            "Igc8DCHjLo1tOveOwiZq\n",
            "1KZaDa49jqJHBvGe3csu\n",
            "qBqNUvliVCYx0nqC7Lyo\n",
            "XF9Zyx7LMGtydiYDBzEn\n",
            "\n"
          ]
        },
        {
          "output_type": "error",
          "ename": "KeyboardInterrupt",
          "evalue": "ignored",
          "traceback": [
            "\u001b[0;31m---------------------------------------------------------------------------\u001b[0m",
            "\u001b[0;31mKeyboardInterrupt\u001b[0m                         Traceback (most recent call last)",
            "\u001b[0;32m<ipython-input-24-d901d37915b1>\u001b[0m in \u001b[0;36m<cell line: 17>\u001b[0;34m()\u001b[0m\n\u001b[1;32m     16\u001b[0m \u001b[0;31m# Interactive input and display of investor matches\u001b[0m\u001b[0;34m\u001b[0m\u001b[0;34m\u001b[0m\u001b[0m\n\u001b[1;32m     17\u001b[0m \u001b[0;32mwhile\u001b[0m \u001b[0;32mTrue\u001b[0m\u001b[0;34m:\u001b[0m\u001b[0;34m\u001b[0m\u001b[0;34m\u001b[0m\u001b[0m\n\u001b[0;32m---> 18\u001b[0;31m     \u001b[0minput_id\u001b[0m \u001b[0;34m=\u001b[0m \u001b[0minput\u001b[0m\u001b[0;34m(\u001b[0m\u001b[0;34m\"Enter startup ID (or 'exit' to quit): \"\u001b[0m\u001b[0;34m)\u001b[0m\u001b[0;34m\u001b[0m\u001b[0;34m\u001b[0m\u001b[0m\n\u001b[0m\u001b[1;32m     19\u001b[0m     \u001b[0;32mif\u001b[0m \u001b[0minput_id\u001b[0m \u001b[0;34m==\u001b[0m \u001b[0;34m'exit'\u001b[0m\u001b[0;34m:\u001b[0m\u001b[0;34m\u001b[0m\u001b[0;34m\u001b[0m\u001b[0m\n\u001b[1;32m     20\u001b[0m         \u001b[0;32mbreak\u001b[0m\u001b[0;34m\u001b[0m\u001b[0;34m\u001b[0m\u001b[0m\n",
            "\u001b[0;32m/usr/local/lib/python3.10/dist-packages/ipykernel/kernelbase.py\u001b[0m in \u001b[0;36mraw_input\u001b[0;34m(self, prompt)\u001b[0m\n\u001b[1;32m    849\u001b[0m                 \u001b[0;34m\"raw_input was called, but this frontend does not support input requests.\"\u001b[0m\u001b[0;34m\u001b[0m\u001b[0;34m\u001b[0m\u001b[0m\n\u001b[1;32m    850\u001b[0m             )\n\u001b[0;32m--> 851\u001b[0;31m         return self._input_request(str(prompt),\n\u001b[0m\u001b[1;32m    852\u001b[0m             \u001b[0mself\u001b[0m\u001b[0;34m.\u001b[0m\u001b[0m_parent_ident\u001b[0m\u001b[0;34m,\u001b[0m\u001b[0;34m\u001b[0m\u001b[0;34m\u001b[0m\u001b[0m\n\u001b[1;32m    853\u001b[0m             \u001b[0mself\u001b[0m\u001b[0;34m.\u001b[0m\u001b[0m_parent_header\u001b[0m\u001b[0;34m,\u001b[0m\u001b[0;34m\u001b[0m\u001b[0;34m\u001b[0m\u001b[0m\n",
            "\u001b[0;32m/usr/local/lib/python3.10/dist-packages/ipykernel/kernelbase.py\u001b[0m in \u001b[0;36m_input_request\u001b[0;34m(self, prompt, ident, parent, password)\u001b[0m\n\u001b[1;32m    893\u001b[0m             \u001b[0;32mexcept\u001b[0m \u001b[0mKeyboardInterrupt\u001b[0m\u001b[0;34m:\u001b[0m\u001b[0;34m\u001b[0m\u001b[0;34m\u001b[0m\u001b[0m\n\u001b[1;32m    894\u001b[0m                 \u001b[0;31m# re-raise KeyboardInterrupt, to truncate traceback\u001b[0m\u001b[0;34m\u001b[0m\u001b[0;34m\u001b[0m\u001b[0m\n\u001b[0;32m--> 895\u001b[0;31m                 \u001b[0;32mraise\u001b[0m \u001b[0mKeyboardInterrupt\u001b[0m\u001b[0;34m(\u001b[0m\u001b[0;34m\"Interrupted by user\"\u001b[0m\u001b[0;34m)\u001b[0m \u001b[0;32mfrom\u001b[0m \u001b[0;32mNone\u001b[0m\u001b[0;34m\u001b[0m\u001b[0;34m\u001b[0m\u001b[0m\n\u001b[0m\u001b[1;32m    896\u001b[0m             \u001b[0;32mexcept\u001b[0m \u001b[0mException\u001b[0m \u001b[0;32mas\u001b[0m \u001b[0me\u001b[0m\u001b[0;34m:\u001b[0m\u001b[0;34m\u001b[0m\u001b[0;34m\u001b[0m\u001b[0m\n\u001b[1;32m    897\u001b[0m                 \u001b[0mself\u001b[0m\u001b[0;34m.\u001b[0m\u001b[0mlog\u001b[0m\u001b[0;34m.\u001b[0m\u001b[0mwarning\u001b[0m\u001b[0;34m(\u001b[0m\u001b[0;34m\"Invalid Message:\"\u001b[0m\u001b[0;34m,\u001b[0m \u001b[0mexc_info\u001b[0m\u001b[0;34m=\u001b[0m\u001b[0;32mTrue\u001b[0m\u001b[0;34m)\u001b[0m\u001b[0;34m\u001b[0m\u001b[0;34m\u001b[0m\u001b[0m\n",
            "\u001b[0;31mKeyboardInterrupt\u001b[0m: Interrupted by user"
          ]
        }
      ]
    },
    {
      "cell_type": "markdown",
      "source": [
        "# Store Investor Matches for Startup to Firestore"
      ],
      "metadata": {
        "id": "Rxyp9rE0F7j1"
      }
    },
    {
      "cell_type": "code",
      "source": [
        "def get_investor_matches(startup_id):\n",
        "    matches = {}\n",
        "    startup_index = startup_ids.index(startup_id)\n",
        "    similarities = similarity_matrix[startup_index]\n",
        "    sorted_indexes = np.argsort(similarities)[::-1]\n",
        "    top_matches = [investor_ids[i] for i in sorted_indexes[:20]]\n",
        "    matches[startup_id] = top_matches\n",
        "    return matches\n",
        "\n",
        "# Add investor matches to Firestore collection\n",
        "def add_investor_matches(startup_id, investor_matches):\n",
        "    matches_ref = db.collection('investor_matches')\n",
        "    matches_ref.document(startup_id).set({ 'investor_matches': investor_matches })\n",
        "\n",
        "\n",
        "for id in startup_ids:\n",
        "  input_id = id\n",
        "  investor_matches = get_investor_matches(input_id)\n",
        "  add_investor_matches(input_id, investor_matches[input_id])"
      ],
      "metadata": {
        "id": "lSyIW1JhnPIK"
      },
      "execution_count": null,
      "outputs": []
    },
    {
      "cell_type": "markdown",
      "source": [
        "# Store Startup Matches for Investor to Firestore"
      ],
      "metadata": {
        "id": "dyAzASiTGH5n"
      }
    },
    {
      "cell_type": "code",
      "source": [
        "def get_startup_matches(investor_id):\n",
        "    matches = {}\n",
        "    investor_index = investor_ids.index(investor_id)\n",
        "    similarities = similarity_investor[investor_index]\n",
        "    sorted_indexes = np.argsort(similarities)[::-1]\n",
        "    top_matches = [startup_ids[i] for i in sorted_indexes[:20]]\n",
        "    matches[investor_id] = top_matches\n",
        "    return matches\n",
        "\n",
        "def add_startup_matches(investor_id, startup_matches):\n",
        "  matches_ref = db.collection('startup_matches')\n",
        "  matches_ref.document(investor_id).set({'startup_matches': startup_matches})\n",
        "\n",
        "for id in investor_ids:\n",
        "  input_id = id\n",
        "  startup_matches = get_startup_matches(input_id)\n",
        "  add_startup_matches(input_id, startup_matches[input_id])"
      ],
      "metadata": {
        "id": "pVRqdpBhsHtA"
      },
      "execution_count": null,
      "outputs": []
    },
    {
      "cell_type": "code",
      "source": [
        "investor_matches_ids"
      ],
      "metadata": {
        "colab": {
          "base_uri": "https://localhost:8080/"
        },
        "id": "TNJf-mZhR1d8",
        "outputId": "0d7dd8f9-31b1-4726-ab1f-9e55d3c37464"
      },
      "execution_count": null,
      "outputs": [
        {
          "output_type": "execute_result",
          "data": {
            "text/plain": [
              "['0o6cMwcmzdwvhgxIVdHW',\n",
              " '2RcMgaYlttlNYC7hla9f',\n",
              " '33OmGxZjFv7xcvW51HId',\n",
              " '4SufazwlFzOQ3qq04EPp',\n",
              " '4qPjPxEzBOC4Atrc51pi',\n",
              " '6o8XNTs8U0P0tKpeNqoM',\n",
              " '7rEs9pi3xtUOt49KU0JY',\n",
              " '8Sz5wXPtdtqi3vqt0dyw',\n",
              " 'AKkSG6fpMUkSQJa5mDLZ',\n",
              " 'AZDvIzJ8otkvcihxQGlN',\n",
              " 'AwmbPc8upvgHRDLHiRZY',\n",
              " 'Csa8mNvPDqzksK0tvIDw',\n",
              " 'CyPqwfkQZnruqbIT0aGq',\n",
              " 'ENT77nHjd2qUTvDMOaYI',\n",
              " 'EiCjPooRkqs7w1Zc7qlF',\n",
              " 'HGlby2sKnZ8O58K0HBC3',\n",
              " 'HMoYz8huJQeZvRcwjarA',\n",
              " 'IDwi33atJcAxHsurWqFA',\n",
              " 'JRRgo0POxghgyeJepTjP',\n",
              " 'JUSGJh4SOBOK7a4ioiul',\n",
              " 'KgueWXHb5COzopbzRxll',\n",
              " 'N9G7EkzTCTHSx2YRbpdo',\n",
              " 'QXs8xQAXfT0t9Wk4rG27',\n",
              " 'RJ10gLeNom1AvhxVknfB',\n",
              " 'RVmxWHHmZbqOyNl0zAew',\n",
              " 'TLFpWV0WDlRcWOqmJ9rK',\n",
              " 'TpqsCn1lZY0GTw1JvHkc',\n",
              " 'UmRV9MGR95pC5nfA6efV',\n",
              " 'VB0LNlwshUUrSvjgh3PQ',\n",
              " 'XU1gqqA4CtDZT7q0Gkbd',\n",
              " 'XcZyKRQzrdcylg7DdnSm',\n",
              " 'Y7tg5GzmGKWMM0GWZE7E',\n",
              " 'fiIzvf3lydu5fQI489El',\n",
              " 'g7vPkPHqeKNRdC0jwWKn',\n",
              " 'grZDuGilHVat4aq4oziW',\n",
              " 'hhqBasXOqf5DkpTKUad0',\n",
              " 'l33AYUqdqSi5mWVsHT2Y',\n",
              " 'mV0aFBi7iRucija3DUhl',\n",
              " 'nBgyIYqWOyHHID7xjgbk',\n",
              " 'oYz6LK70oB47MCF7JvxN',\n",
              " 'rIzwlYoblupOB5veoZcL',\n",
              " 'tFPlFkBC9BXV9Bc455jU',\n",
              " 'tHGbjsxvScLYeeUy9djQ',\n",
              " 'uDNWCGp49JsWIch1HmIH',\n",
              " 'xMGSK69HKiTU63dhjWhD',\n",
              " 'xO2y7QAwJ973qw5NpJWp',\n",
              " 'xaIuBPxzlqPYmckXvNtQ',\n",
              " 'yU6BTupIlz7IhbQULrPZ',\n",
              " 'z4hDEn2j3AfHpQxZTlsF',\n",
              " 'zeXEKRs5a8Vbb5yPk3SO']"
            ]
          },
          "metadata": {},
          "execution_count": 20
        }
      ]
    }
  ]
}